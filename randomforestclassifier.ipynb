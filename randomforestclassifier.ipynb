{
 "cells": [
  {
   "cell_type": "code",
   "execution_count": 1,
   "metadata": {},
   "outputs": [
    {
     "name": "stderr",
     "output_type": "stream",
     "text": [
      "/home/eduardo/.local/lib/python3.5/site-packages/sklearn/ensemble/weight_boosting.py:29: DeprecationWarning: numpy.core.umath_tests is an internal NumPy module and should not be imported. It will be removed in a future NumPy release.\n",
      "  from numpy.core.umath_tests import inner1d\n"
     ]
    }
   ],
   "source": [
    "from sklearn.preprocessing import LabelEncoder\n",
    "from sklearn.preprocessing import MinMaxScaler\n",
    "import numpy as np\n",
    "import pandas as pd\n",
    "\n",
    "from src.dataframe import importDfPickle\n",
    "\n",
    "import cv2\n",
    "import os\n",
    "import h5py\n",
    "import glob\n",
    "import matplotlib.pyplot as plt\n",
    "from sklearn.model_selection import train_test_split, cross_val_score\n",
    "from sklearn.ensemble import RandomForestClassifier"
   ]
  },
  {
   "cell_type": "code",
   "execution_count": 2,
   "metadata": {},
   "outputs": [],
   "source": [
    "df=importDfPickle(\"./output/df_30mil.pkl\") "
   ]
  },
  {
   "cell_type": "code",
   "execution_count": 3,
   "metadata": {},
   "outputs": [
    {
     "data": {
      "text/html": [
       "<div>\n",
       "<style scoped>\n",
       "    .dataframe tbody tr th:only-of-type {\n",
       "        vertical-align: middle;\n",
       "    }\n",
       "\n",
       "    .dataframe tbody tr th {\n",
       "        vertical-align: top;\n",
       "    }\n",
       "\n",
       "    .dataframe thead th {\n",
       "        text-align: right;\n",
       "    }\n",
       "</style>\n",
       "<table border=\"1\" class=\"dataframe\">\n",
       "  <thead>\n",
       "    <tr style=\"text-align: right;\">\n",
       "      <th></th>\n",
       "      <th>label</th>\n",
       "      <th>image</th>\n",
       "      <th>path</th>\n",
       "    </tr>\n",
       "  </thead>\n",
       "  <tbody>\n",
       "    <tr>\n",
       "      <th>0</th>\n",
       "      <td>1</td>\n",
       "      <td>[[[241, 240, 243], [241, 240, 243], [241, 240,...</td>\n",
       "      <td>images/0/10269_idx5_x1101_y901_class0.png</td>\n",
       "    </tr>\n",
       "    <tr>\n",
       "      <th>1</th>\n",
       "      <td>1</td>\n",
       "      <td>[[[200, 182, 232], [210, 193, 235], [220, 211,...</td>\n",
       "      <td>images/0/9254_idx5_x1551_y1851_class0.png</td>\n",
       "    </tr>\n",
       "    <tr>\n",
       "      <th>2</th>\n",
       "      <td>1</td>\n",
       "      <td>[[[206, 181, 227], [235, 230, 233], [238, 235,...</td>\n",
       "      <td>images/0/9259_idx5_x2401_y951_class0.png</td>\n",
       "    </tr>\n",
       "    <tr>\n",
       "      <th>3</th>\n",
       "      <td>1</td>\n",
       "      <td>[[[226, 210, 241], [235, 232, 241], [238, 232,...</td>\n",
       "      <td>images/0/12930_idx5_x951_y1201_class0.png</td>\n",
       "    </tr>\n",
       "    <tr>\n",
       "      <th>4</th>\n",
       "      <td>1</td>\n",
       "      <td>[[[242, 241, 241], [236, 236, 243], [150, 108,...</td>\n",
       "      <td>images/0/9227_idx5_x901_y1251_class0.png</td>\n",
       "    </tr>\n",
       "  </tbody>\n",
       "</table>\n",
       "</div>"
      ],
      "text/plain": [
       "   label                                              image  \\\n",
       "0      1  [[[241, 240, 243], [241, 240, 243], [241, 240,...   \n",
       "1      1  [[[200, 182, 232], [210, 193, 235], [220, 211,...   \n",
       "2      1  [[[206, 181, 227], [235, 230, 233], [238, 235,...   \n",
       "3      1  [[[226, 210, 241], [235, 232, 241], [238, 232,...   \n",
       "4      1  [[[242, 241, 241], [236, 236, 243], [150, 108,...   \n",
       "\n",
       "                                        path  \n",
       "0  images/0/10269_idx5_x1101_y901_class0.png  \n",
       "1  images/0/9254_idx5_x1551_y1851_class0.png  \n",
       "2   images/0/9259_idx5_x2401_y951_class0.png  \n",
       "3  images/0/12930_idx5_x951_y1201_class0.png  \n",
       "4   images/0/9227_idx5_x901_y1251_class0.png  "
      ]
     },
     "execution_count": 3,
     "metadata": {},
     "output_type": "execute_result"
    }
   ],
   "source": [
    "df.head()"
   ]
  },
  {
   "cell_type": "code",
   "execution_count": 7,
   "metadata": {},
   "outputs": [],
   "source": [
    "df['label']=df['label'].replace(1,'Negativo')"
   ]
  },
  {
   "cell_type": "code",
   "execution_count": 8,
   "metadata": {},
   "outputs": [],
   "source": [
    "df['label']=df['label'].replace(0,'Positivo')"
   ]
  },
  {
   "cell_type": "code",
   "execution_count": 9,
   "metadata": {},
   "outputs": [
    {
     "data": {
      "text/plain": [
       "(50, 50, 3)"
      ]
     },
     "execution_count": 9,
     "metadata": {},
     "output_type": "execute_result"
    }
   ],
   "source": [
    "df.loc[0,\"image\"].shape"
   ]
  },
  {
   "cell_type": "code",
   "execution_count": 10,
   "metadata": {},
   "outputs": [],
   "source": [
    "df['label']=df['label'].replace('Negativo',0)"
   ]
  },
  {
   "cell_type": "code",
   "execution_count": 11,
   "metadata": {},
   "outputs": [],
   "source": [
    "df['label']=df['label'].replace('Positivo',1)"
   ]
  },
  {
   "cell_type": "code",
   "execution_count": 12,
   "metadata": {},
   "outputs": [
    {
     "data": {
      "text/html": [
       "<div>\n",
       "<style scoped>\n",
       "    .dataframe tbody tr th:only-of-type {\n",
       "        vertical-align: middle;\n",
       "    }\n",
       "\n",
       "    .dataframe tbody tr th {\n",
       "        vertical-align: top;\n",
       "    }\n",
       "\n",
       "    .dataframe thead th {\n",
       "        text-align: right;\n",
       "    }\n",
       "</style>\n",
       "<table border=\"1\" class=\"dataframe\">\n",
       "  <thead>\n",
       "    <tr style=\"text-align: right;\">\n",
       "      <th></th>\n",
       "      <th>label</th>\n",
       "      <th>image</th>\n",
       "      <th>path</th>\n",
       "    </tr>\n",
       "  </thead>\n",
       "  <tbody>\n",
       "    <tr>\n",
       "      <th>0</th>\n",
       "      <td>0</td>\n",
       "      <td>[[[241, 240, 243], [241, 240, 243], [241, 240,...</td>\n",
       "      <td>images/0/10269_idx5_x1101_y901_class0.png</td>\n",
       "    </tr>\n",
       "    <tr>\n",
       "      <th>1</th>\n",
       "      <td>0</td>\n",
       "      <td>[[[200, 182, 232], [210, 193, 235], [220, 211,...</td>\n",
       "      <td>images/0/9254_idx5_x1551_y1851_class0.png</td>\n",
       "    </tr>\n",
       "    <tr>\n",
       "      <th>2</th>\n",
       "      <td>0</td>\n",
       "      <td>[[[206, 181, 227], [235, 230, 233], [238, 235,...</td>\n",
       "      <td>images/0/9259_idx5_x2401_y951_class0.png</td>\n",
       "    </tr>\n",
       "    <tr>\n",
       "      <th>3</th>\n",
       "      <td>0</td>\n",
       "      <td>[[[226, 210, 241], [235, 232, 241], [238, 232,...</td>\n",
       "      <td>images/0/12930_idx5_x951_y1201_class0.png</td>\n",
       "    </tr>\n",
       "    <tr>\n",
       "      <th>4</th>\n",
       "      <td>0</td>\n",
       "      <td>[[[242, 241, 241], [236, 236, 243], [150, 108,...</td>\n",
       "      <td>images/0/9227_idx5_x901_y1251_class0.png</td>\n",
       "    </tr>\n",
       "  </tbody>\n",
       "</table>\n",
       "</div>"
      ],
      "text/plain": [
       "   label                                              image  \\\n",
       "0      0  [[[241, 240, 243], [241, 240, 243], [241, 240,...   \n",
       "1      0  [[[200, 182, 232], [210, 193, 235], [220, 211,...   \n",
       "2      0  [[[206, 181, 227], [235, 230, 233], [238, 235,...   \n",
       "3      0  [[[226, 210, 241], [235, 232, 241], [238, 232,...   \n",
       "4      0  [[[242, 241, 241], [236, 236, 243], [150, 108,...   \n",
       "\n",
       "                                        path  \n",
       "0  images/0/10269_idx5_x1101_y901_class0.png  \n",
       "1  images/0/9254_idx5_x1551_y1851_class0.png  \n",
       "2   images/0/9259_idx5_x2401_y951_class0.png  \n",
       "3  images/0/12930_idx5_x951_y1201_class0.png  \n",
       "4   images/0/9227_idx5_x901_y1251_class0.png  "
      ]
     },
     "execution_count": 12,
     "metadata": {},
     "output_type": "execute_result"
    }
   ],
   "source": [
    "df.head()"
   ]
  },
  {
   "cell_type": "markdown",
   "metadata": {},
   "source": [
    "### Haciendo la transformada de Fourier de las imágenes"
   ]
  },
  {
   "cell_type": "code",
   "execution_count": 77,
   "metadata": {},
   "outputs": [],
   "source": [
    "\"\"\"from scipy.fftpack import fft\n",
    "\n",
    "def fftransform(array):\n",
    "    '''fft to all the array images (column in this case)'''\n",
    "    return np.abs(fft(array,512))\n",
    "\"\"\""
   ]
  },
  {
   "cell_type": "code",
   "execution_count": 78,
   "metadata": {},
   "outputs": [
    {
     "data": {
      "text/plain": [
       "array([[8.67060000e+04, 6.11374659e+02, 5.32811883e+02, 1.31227626e+03,\n",
       "        1.43855203e+03, 7.41853586e+02, 5.86943042e+02, 1.78181712e+03,\n",
       "        8.07730434e+02, 3.35865909e+02, 8.26964201e+02, 8.82614781e+02,\n",
       "        7.06414212e+02, 6.03722428e+02, 2.28590045e+02, 3.30111639e+02,\n",
       "        3.70419547e+02, 1.07122765e+03, 9.68515846e+02, 8.80728843e+02,\n",
       "        1.53121700e+02, 3.39109563e+02, 4.13711213e+02, 6.61495407e+02,\n",
       "        1.27576060e+02, 7.20546376e+02, 2.86455345e+02, 4.67944535e+02,\n",
       "        4.47246431e+02, 6.33870539e+02, 3.38332646e+02, 8.89473102e+02,\n",
       "        7.33058480e+02, 6.77288928e+02, 1.26892253e+02, 2.70972361e+02,\n",
       "        7.28245438e+02, 7.22334993e+02, 4.54976410e+02, 6.79493997e+02,\n",
       "        5.66707625e+02, 7.22312159e+02, 1.23778236e+02, 1.75907966e+02,\n",
       "        3.70245774e+02, 1.98567757e+02, 3.79677085e+02, 4.59917966e+01,\n",
       "        1.42978951e+02, 3.95925694e+02, 3.82451554e+02, 6.96479664e+02,\n",
       "        7.12062431e+02, 2.43632102e+02, 3.24224835e+02, 5.66240632e+02,\n",
       "        1.02722089e+02, 4.95115842e+02, 3.21250339e+02, 3.16023634e+02,\n",
       "        2.35391097e+02, 2.12930442e+02, 9.04414544e+02, 3.60108741e+02,\n",
       "        5.10070909e+02, 4.96922472e+02, 5.48108867e+02, 5.05483563e+02,\n",
       "        3.24052412e+02, 3.63950061e+02, 3.32174237e+02, 2.14920443e+02,\n",
       "        5.28793313e+02, 2.44089854e+02, 5.36858407e+02, 4.03466960e+02,\n",
       "        4.33496518e+02, 6.00701609e+02, 1.35587999e+02, 2.28670253e+02,\n",
       "        9.65177982e+01, 2.62334787e+02, 4.07915137e+02, 3.06920067e+02,\n",
       "        2.34579718e+02, 4.16925601e+01, 1.29540850e+02, 3.27304404e+02,\n",
       "        1.06414007e+02, 2.59656912e+02, 2.22120394e+02, 3.26400889e+02,\n",
       "        2.61307742e+02, 2.93461531e+02, 3.20095755e+02, 2.12017653e+02,\n",
       "        3.65415315e+02, 5.33048889e+02, 5.55524816e+02, 1.14428471e+02,\n",
       "        1.03254763e+02, 2.33640224e+02, 1.59436851e+02, 2.08646028e+02,\n",
       "        3.32892546e+02, 3.68757577e+02, 3.03040689e+02, 2.47545756e+02,\n",
       "        6.03956853e+02, 4.45845608e+02, 1.10293543e+02, 2.95042234e+02,\n",
       "        4.22623580e+02, 3.18088660e+02, 1.68619236e+02, 2.69896712e+02,\n",
       "        4.20341102e+02, 2.74403773e+02, 9.95217219e+01, 4.25984982e+02,\n",
       "        2.28212914e+02, 2.86564977e+02, 2.64899711e+02, 1.91375848e+02,\n",
       "        2.54183798e+02, 2.60708068e+02, 5.64262781e+02, 1.43852800e+02,\n",
       "        2.05766858e+02, 2.05533954e+02, 2.03393636e+02, 2.03289176e+02,\n",
       "        1.05013846e+02, 3.80254070e+02, 3.25047645e+02, 1.25162561e+02,\n",
       "        1.26760090e+02, 1.45854011e+02, 3.83130742e+02, 3.57106334e+02,\n",
       "        2.72769761e+02, 3.72619085e+02, 7.21834277e+02, 1.49656561e+02,\n",
       "        2.09436834e+02, 4.43586103e+02, 7.73834574e+02, 5.41571832e+02,\n",
       "        3.26913334e+02, 3.98522547e+02, 2.34170162e+02, 1.38455052e+02,\n",
       "        3.14284658e+02, 3.26562998e+02, 3.07270469e+02, 1.53426678e+02,\n",
       "        4.34063308e+02, 2.72134822e+01, 6.27516373e+02, 4.78848196e+02,\n",
       "        8.13607127e+02, 4.27865661e+02, 4.26793394e+02, 4.68226590e+02,\n",
       "        3.84307928e+02, 5.74539984e+02, 7.00526609e+02, 1.20174904e+03,\n",
       "        1.01909206e+03, 1.72241708e+03, 4.48099094e+03, 9.23432480e+03,\n",
       "        2.22504866e+03, 1.35393395e+03, 1.27165439e+03, 9.88800232e+02,\n",
       "        5.84526622e+02, 6.29575011e+02, 4.40081492e+02, 5.58644709e+02,\n",
       "        6.24918122e+02, 9.15838351e+02, 3.82950298e+02, 4.72895824e+02,\n",
       "        1.56319058e+02, 1.81717065e+02, 2.05793713e+02, 3.01032796e+02,\n",
       "        4.56136522e+02, 2.42130170e+02, 2.24442651e+02, 1.97114875e+02,\n",
       "        4.32383704e+02, 2.98895377e+02, 2.40263599e+02, 3.38455619e+02,\n",
       "        3.35547126e+02, 4.10502763e+01, 1.48389424e+02, 4.69578206e+02,\n",
       "        1.24419541e+02, 8.46439804e+01, 3.20500672e+02, 1.00926159e+02,\n",
       "        9.91123959e+01, 1.98071975e+02, 1.04414656e+02, 2.73367880e+02,\n",
       "        2.50852214e+02, 1.58798995e+02, 6.78366648e+01, 2.32143130e+02,\n",
       "        8.41951258e+01, 1.64800085e+02, 1.06899270e+02, 2.87751458e+02,\n",
       "        3.71417636e+01, 7.46435859e+01, 6.84314459e+01, 1.39286032e+02,\n",
       "        1.29782798e+02, 5.03753521e+01, 1.40035460e+02, 4.13156394e+01,\n",
       "        1.84229083e+02, 1.45560398e+02, 1.47297000e+02, 9.36181796e+01,\n",
       "        2.33999735e+02, 2.76461040e+02, 5.72669996e+01, 9.31462224e+01,\n",
       "        5.00092321e+01, 3.43391345e+02, 1.06831616e+02, 1.70859692e+02,\n",
       "        1.32564173e+02, 1.59803582e+02, 1.37446158e+02, 1.31815513e+02,\n",
       "        1.80637790e+02, 5.59765362e+01, 1.52125132e+02, 1.27204198e+02,\n",
       "        7.80832741e+01, 2.09386304e+02, 1.41030903e+02, 1.61356089e+02,\n",
       "        1.57815518e+02, 9.32145845e+01, 8.22205740e+01, 1.29793891e+02,\n",
       "        1.12643570e+02, 1.33954221e+02, 1.75357484e+02, 4.38467568e+01,\n",
       "        4.60000000e+01, 4.38467568e+01, 1.75357484e+02, 1.33954221e+02,\n",
       "        1.12643570e+02, 1.29793891e+02, 8.22205740e+01, 9.32145845e+01,\n",
       "        1.57815518e+02, 1.61356089e+02, 1.41030903e+02, 2.09386304e+02,\n",
       "        7.80832741e+01, 1.27204198e+02, 1.52125132e+02, 5.59765362e+01,\n",
       "        1.80637790e+02, 1.31815513e+02, 1.37446158e+02, 1.59803582e+02,\n",
       "        1.32564173e+02, 1.70859692e+02, 1.06831616e+02, 3.43391345e+02,\n",
       "        5.00092321e+01, 9.31462224e+01, 5.72669996e+01, 2.76461040e+02,\n",
       "        2.33999735e+02, 9.36181796e+01, 1.47297000e+02, 1.45560398e+02,\n",
       "        1.84229083e+02, 4.13156394e+01, 1.40035460e+02, 5.03753521e+01,\n",
       "        1.29782798e+02, 1.39286032e+02, 6.84314459e+01, 7.46435859e+01,\n",
       "        3.71417636e+01, 2.87751458e+02, 1.06899270e+02, 1.64800085e+02,\n",
       "        8.41951258e+01, 2.32143130e+02, 6.78366648e+01, 1.58798995e+02,\n",
       "        2.50852214e+02, 2.73367880e+02, 1.04414656e+02, 1.98071975e+02,\n",
       "        9.91123959e+01, 1.00926159e+02, 3.20500672e+02, 8.46439804e+01,\n",
       "        1.24419541e+02, 4.69578206e+02, 1.48389424e+02, 4.10502763e+01,\n",
       "        3.35547126e+02, 3.38455619e+02, 2.40263599e+02, 2.98895377e+02,\n",
       "        4.32383704e+02, 1.97114875e+02, 2.24442651e+02, 2.42130170e+02,\n",
       "        4.56136522e+02, 3.01032796e+02, 2.05793713e+02, 1.81717065e+02,\n",
       "        1.56319058e+02, 4.72895824e+02, 3.82950298e+02, 9.15838351e+02,\n",
       "        6.24918122e+02, 5.58644709e+02, 4.40081492e+02, 6.29575011e+02,\n",
       "        5.84526622e+02, 9.88800232e+02, 1.27165439e+03, 1.35393395e+03,\n",
       "        2.22504866e+03, 9.23432480e+03, 4.48099094e+03, 1.72241708e+03,\n",
       "        1.01909206e+03, 1.20174904e+03, 7.00526609e+02, 5.74539984e+02,\n",
       "        3.84307928e+02, 4.68226590e+02, 4.26793394e+02, 4.27865661e+02,\n",
       "        8.13607127e+02, 4.78848196e+02, 6.27516373e+02, 2.72134822e+01,\n",
       "        4.34063308e+02, 1.53426678e+02, 3.07270469e+02, 3.26562998e+02,\n",
       "        3.14284658e+02, 1.38455052e+02, 2.34170162e+02, 3.98522547e+02,\n",
       "        3.26913334e+02, 5.41571832e+02, 7.73834574e+02, 4.43586103e+02,\n",
       "        2.09436834e+02, 1.49656561e+02, 7.21834277e+02, 3.72619085e+02,\n",
       "        2.72769761e+02, 3.57106334e+02, 3.83130742e+02, 1.45854011e+02,\n",
       "        1.26760090e+02, 1.25162561e+02, 3.25047645e+02, 3.80254070e+02,\n",
       "        1.05013846e+02, 2.03289176e+02, 2.03393636e+02, 2.05533954e+02,\n",
       "        2.05766858e+02, 1.43852800e+02, 5.64262781e+02, 2.60708068e+02,\n",
       "        2.54183798e+02, 1.91375848e+02, 2.64899711e+02, 2.86564977e+02,\n",
       "        2.28212914e+02, 4.25984982e+02, 9.95217219e+01, 2.74403773e+02,\n",
       "        4.20341102e+02, 2.69896712e+02, 1.68619236e+02, 3.18088660e+02,\n",
       "        4.22623580e+02, 2.95042234e+02, 1.10293543e+02, 4.45845608e+02,\n",
       "        6.03956853e+02, 2.47545756e+02, 3.03040689e+02, 3.68757577e+02,\n",
       "        3.32892546e+02, 2.08646028e+02, 1.59436851e+02, 2.33640224e+02,\n",
       "        1.03254763e+02, 1.14428471e+02, 5.55524816e+02, 5.33048889e+02,\n",
       "        3.65415315e+02, 2.12017653e+02, 3.20095755e+02, 2.93461531e+02,\n",
       "        2.61307742e+02, 3.26400889e+02, 2.22120394e+02, 2.59656912e+02,\n",
       "        1.06414007e+02, 3.27304404e+02, 1.29540850e+02, 4.16925601e+01,\n",
       "        2.34579718e+02, 3.06920067e+02, 4.07915137e+02, 2.62334787e+02,\n",
       "        9.65177982e+01, 2.28670253e+02, 1.35587999e+02, 6.00701609e+02,\n",
       "        4.33496518e+02, 4.03466960e+02, 5.36858407e+02, 2.44089854e+02,\n",
       "        5.28793313e+02, 2.14920443e+02, 3.32174237e+02, 3.63950061e+02,\n",
       "        3.24052412e+02, 5.05483563e+02, 5.48108867e+02, 4.96922472e+02,\n",
       "        5.10070909e+02, 3.60108741e+02, 9.04414544e+02, 2.12930442e+02,\n",
       "        2.35391097e+02, 3.16023634e+02, 3.21250339e+02, 4.95115842e+02,\n",
       "        1.02722089e+02, 5.66240632e+02, 3.24224835e+02, 2.43632102e+02,\n",
       "        7.12062431e+02, 6.96479664e+02, 3.82451554e+02, 3.95925694e+02,\n",
       "        1.42978951e+02, 4.59917966e+01, 3.79677085e+02, 1.98567757e+02,\n",
       "        3.70245774e+02, 1.75907966e+02, 1.23778236e+02, 7.22312159e+02,\n",
       "        5.66707625e+02, 6.79493997e+02, 4.54976410e+02, 7.22334993e+02,\n",
       "        7.28245438e+02, 2.70972361e+02, 1.26892253e+02, 6.77288928e+02,\n",
       "        7.33058480e+02, 8.89473102e+02, 3.38332646e+02, 6.33870539e+02,\n",
       "        4.47246431e+02, 4.67944535e+02, 2.86455345e+02, 7.20546376e+02,\n",
       "        1.27576060e+02, 6.61495407e+02, 4.13711213e+02, 3.39109563e+02,\n",
       "        1.53121700e+02, 8.80728843e+02, 9.68515846e+02, 1.07122765e+03,\n",
       "        3.70419547e+02, 3.30111639e+02, 2.28590045e+02, 6.03722428e+02,\n",
       "        7.06414212e+02, 8.82614781e+02, 8.26964201e+02, 3.35865909e+02,\n",
       "        8.07730434e+02, 1.78181712e+03, 5.86943042e+02, 7.41853586e+02,\n",
       "        1.43855203e+03, 1.31227626e+03, 5.32811883e+02, 6.11374659e+02]])"
      ]
     },
     "execution_count": 78,
     "metadata": {},
     "output_type": "execute_result"
    }
   ],
   "source": [
    "#fftransform(resizeImages('./images/16896_idx5_x201_y1051_class1.png'))"
   ]
  },
  {
   "cell_type": "code",
   "execution_count": null,
   "metadata": {},
   "outputs": [],
   "source": [
    "#df['fft']=df['image'].apply(lambda x: fftransform(x))"
   ]
  },
  {
   "cell_type": "code",
   "execution_count": 13,
   "metadata": {},
   "outputs": [],
   "source": [
    "X=np.asarray(list(df['image']))\n",
    "X = X.reshape(X.shape[0], -1)\n",
    "y=np.asarray(df['label'])"
   ]
  },
  {
   "cell_type": "code",
   "execution_count": 83,
   "metadata": {},
   "outputs": [
    {
     "data": {
      "text/plain": [
       "0    25000\n",
       "1    20000\n",
       "Name: label, dtype: int64"
      ]
     },
     "execution_count": 83,
     "metadata": {},
     "output_type": "execute_result"
    }
   ],
   "source": [
    "df['label'].value_counts()"
   ]
  },
  {
   "cell_type": "code",
   "execution_count": 14,
   "metadata": {},
   "outputs": [
    {
     "data": {
      "text/plain": [
       "(30000, 7500)"
      ]
     },
     "execution_count": 14,
     "metadata": {},
     "output_type": "execute_result"
    }
   ],
   "source": [
    "X.shape"
   ]
  },
  {
   "cell_type": "code",
   "execution_count": 16,
   "metadata": {},
   "outputs": [],
   "source": [
    "from sklearn.model_selection import train_test_split\n",
    "X_train, X_test, y_train, y_test = train_test_split(X, y, test_size=0.2, random_state=42)"
   ]
  },
  {
   "cell_type": "code",
   "execution_count": 17,
   "metadata": {
    "scrolled": true
   },
   "outputs": [],
   "source": [
    "# create the model - Random Forests\n",
    "clf  = RandomForestClassifier(n_estimators=250)\n",
    "\n",
    "# fit the training data to the model\n",
    "clf_model=clf.fit(X_train, y_train)"
   ]
  },
  {
   "cell_type": "code",
   "execution_count": 18,
   "metadata": {},
   "outputs": [],
   "source": [
    "clf_pred = clf.predict(X_test)"
   ]
  },
  {
   "cell_type": "code",
   "execution_count": 19,
   "metadata": {},
   "outputs": [
    {
     "data": {
      "text/plain": [
       "array([[0.384, 0.616],\n",
       "       [0.604, 0.396],\n",
       "       [0.412, 0.588],\n",
       "       [0.124, 0.876],\n",
       "       [0.604, 0.396],\n",
       "       [0.536, 0.464],\n",
       "       [0.964, 0.036],\n",
       "       [0.964, 0.036],\n",
       "       [0.504, 0.496],\n",
       "       [0.124, 0.876]])"
      ]
     },
     "execution_count": 19,
     "metadata": {},
     "output_type": "execute_result"
    }
   ],
   "source": [
    "clf.predict_proba(X_test)[0:10]"
   ]
  },
  {
   "cell_type": "code",
   "execution_count": 20,
   "metadata": {},
   "outputs": [
    {
     "data": {
      "text/plain": [
       "array([0, 1, 1, 1, 0, 0, 0, 0, 0, 1])"
      ]
     },
     "execution_count": 20,
     "metadata": {},
     "output_type": "execute_result"
    }
   ],
   "source": [
    "y_test[0:10]"
   ]
  },
  {
   "cell_type": "code",
   "execution_count": 21,
   "metadata": {},
   "outputs": [
    {
     "data": {
      "text/plain": [
       "array([1, 0, 1, 1, 0, 0, 0, 0, 0, 1])"
      ]
     },
     "execution_count": 21,
     "metadata": {},
     "output_type": "execute_result"
    }
   ],
   "source": [
    "clf_pred[0:10]"
   ]
  },
  {
   "cell_type": "code",
   "execution_count": 22,
   "metadata": {},
   "outputs": [
    {
     "name": "stdout",
     "output_type": "stream",
     "text": [
      "Mean Absolute Error is : 0.194\n",
      "Mean Squared Error is : 0.194\n",
      "The R2 score value is : 22.380129313104156\n",
      "Accuracy: 0.806\n"
     ]
    }
   ],
   "source": [
    "from sklearn.metrics import mean_squared_error, mean_absolute_error, r2_score,accuracy_score\n",
    "\n",
    "print(\"Mean Absolute Error is :\", mean_absolute_error(y_test, clf_pred))\n",
    "print('Mean Squared Error is :', mean_squared_error(y_test, clf_pred))\n",
    "print('The R2 score value is :', r2_score(y_test, clf_pred)*100)\n",
    "print(\"Accuracy:\", accuracy_score(y_test,clf_pred))"
   ]
  },
  {
   "cell_type": "code",
   "execution_count": 14,
   "metadata": {},
   "outputs": [],
   "source": [
    "#df_prueba = pd.DataFrame(list(zip(clf_pred , y_test)), \n",
    "              # columns =['pred', 'lo que es']) "
   ]
  },
  {
   "cell_type": "code",
   "execution_count": 24,
   "metadata": {},
   "outputs": [],
   "source": [
    "import numpy as np\n",
    "scores = pd.DataFrame({\n",
    "    \"predicted\":clf_pred,\n",
    "    \"gt\":y_test\n",
    "})\n",
    "scores[\"diff\"] = np.abs(scores[\"predicted\"]-scores[\"gt\"])\n",
    "#scores[\"diff\"].sum()/ len(y_test)"
   ]
  },
  {
   "cell_type": "code",
   "execution_count": 26,
   "metadata": {},
   "outputs": [
    {
     "data": {
      "text/html": [
       "<div>\n",
       "<style scoped>\n",
       "    .dataframe tbody tr th:only-of-type {\n",
       "        vertical-align: middle;\n",
       "    }\n",
       "\n",
       "    .dataframe tbody tr th {\n",
       "        vertical-align: top;\n",
       "    }\n",
       "\n",
       "    .dataframe thead th {\n",
       "        text-align: right;\n",
       "    }\n",
       "</style>\n",
       "<table border=\"1\" class=\"dataframe\">\n",
       "  <thead>\n",
       "    <tr style=\"text-align: right;\">\n",
       "      <th></th>\n",
       "      <th>gt</th>\n",
       "      <th>predicted</th>\n",
       "      <th>proba Beningno</th>\n",
       "      <th>proba Maligno</th>\n",
       "    </tr>\n",
       "  </thead>\n",
       "  <tbody>\n",
       "    <tr>\n",
       "      <th>0</th>\n",
       "      <td>0</td>\n",
       "      <td>1</td>\n",
       "      <td>0.384</td>\n",
       "      <td>0.616</td>\n",
       "    </tr>\n",
       "    <tr>\n",
       "      <th>1</th>\n",
       "      <td>1</td>\n",
       "      <td>0</td>\n",
       "      <td>0.604</td>\n",
       "      <td>0.396</td>\n",
       "    </tr>\n",
       "    <tr>\n",
       "      <th>2</th>\n",
       "      <td>1</td>\n",
       "      <td>1</td>\n",
       "      <td>0.412</td>\n",
       "      <td>0.588</td>\n",
       "    </tr>\n",
       "    <tr>\n",
       "      <th>3</th>\n",
       "      <td>1</td>\n",
       "      <td>1</td>\n",
       "      <td>0.124</td>\n",
       "      <td>0.876</td>\n",
       "    </tr>\n",
       "    <tr>\n",
       "      <th>4</th>\n",
       "      <td>0</td>\n",
       "      <td>0</td>\n",
       "      <td>0.604</td>\n",
       "      <td>0.396</td>\n",
       "    </tr>\n",
       "  </tbody>\n",
       "</table>\n",
       "</div>"
      ],
      "text/plain": [
       "   gt  predicted  proba Beningno  proba Maligno\n",
       "0   0          1           0.384          0.616\n",
       "1   1          0           0.604          0.396\n",
       "2   1          1           0.412          0.588\n",
       "3   1          1           0.124          0.876\n",
       "4   0          0           0.604          0.396"
      ]
     },
     "metadata": {},
     "output_type": "display_data"
    },
    {
     "data": {
      "text/plain": [
       "<matplotlib.legend.Legend at 0x7f2acd0641d0>"
      ]
     },
     "execution_count": 26,
     "metadata": {},
     "output_type": "execute_result"
    },
    {
     "data": {
      "image/png": "[encoded data removed]",
      "text/plain": [
       "<Figure size 432x288 with 1 Axes>"
      ]
     },
     "metadata": {
      "needs_background": "light"
     },
     "output_type": "display_data"
    }
   ],
   "source": [
    "from sklearn.metrics import roc_auc_score\n",
    "from sklearn.metrics import roc_curve\n",
    "import matplotlib.pyplot as plt\n",
    "y_score = clf.predict_proba(X_test)\n",
    "\n",
    "#print(y_score)\n",
    "roc = roc_curve(y_test, y_score[:,1])\n",
    "display(pd.DataFrame({\n",
    "    \"gt\":y_test,\n",
    "    \"predicted\":clf_pred,\n",
    "    \"proba Maligno\":y_score[:,1],\n",
    "    \"proba Beningno\":y_score[:,0]\n",
    "}).head())\n",
    "\n",
    "plt.plot(roc[0],roc[1])\n",
    "plt.legend([\"AUC: {}\".format(round(roc_auc_score(y_test, y_score[:,1]),2))])\n"
   ]
  },
  {
   "cell_type": "code",
   "execution_count": 27,
   "metadata": {},
   "outputs": [
    {
     "data": {
      "text/html": [
       "<div>\n",
       "<style scoped>\n",
       "    .dataframe tbody tr th:only-of-type {\n",
       "        vertical-align: middle;\n",
       "    }\n",
       "\n",
       "    .dataframe tbody tr th {\n",
       "        vertical-align: top;\n",
       "    }\n",
       "\n",
       "    .dataframe thead th {\n",
       "        text-align: right;\n",
       "    }\n",
       "</style>\n",
       "<table border=\"1\" class=\"dataframe\">\n",
       "  <thead>\n",
       "    <tr style=\"text-align: right;\">\n",
       "      <th>Predicted Result</th>\n",
       "      <th>0</th>\n",
       "      <th>1</th>\n",
       "    </tr>\n",
       "    <tr>\n",
       "      <th>Actual Result</th>\n",
       "      <th></th>\n",
       "      <th></th>\n",
       "    </tr>\n",
       "  </thead>\n",
       "  <tbody>\n",
       "    <tr>\n",
       "      <th>0</th>\n",
       "      <td>2481</td>\n",
       "      <td>567</td>\n",
       "    </tr>\n",
       "    <tr>\n",
       "      <th>1</th>\n",
       "      <td>597</td>\n",
       "      <td>2355</td>\n",
       "    </tr>\n",
       "  </tbody>\n",
       "</table>\n",
       "</div>"
      ],
      "text/plain": [
       "Predicted Result     0     1\n",
       "Actual Result               \n",
       "0                 2481   567\n",
       "1                  597  2355"
      ]
     },
     "execution_count": 27,
     "metadata": {},
     "output_type": "execute_result"
    }
   ],
   "source": [
    "pd.crosstab(y_test, clf_pred, rownames=['Actual Result'], colnames=['Predicted Result'])"
   ]
  },
  {
   "cell_type": "code",
   "execution_count": 32,
   "metadata": {},
   "outputs": [],
   "source": [
    "import pickle\n",
    "def saveTrainedModel(model,modelname):\n",
    "    filename = './output/models/{}.sav'.format(modelname)\n",
    "    pickle.dump(model, open(filename, 'wb')) "
   ]
  },
  {
   "cell_type": "code",
   "execution_count": 33,
   "metadata": {},
   "outputs": [],
   "source": [
    "modelname='rfc_model'\n",
    "saveTrainedModel(clf_model,modelname)"
   ]
  },
  {
   "cell_type": "markdown",
   "metadata": {},
   "source": [
    "### Predicción con nuevas imágenes"
   ]
  },
  {
   "cell_type": "code",
   "execution_count": 36,
   "metadata": {},
   "outputs": [],
   "source": [
    "import cv2\n",
    "def resizeImages(img_path,size=(50,50)):\n",
    "    \"resize all images to 50x50\"\n",
    "    image = cv2.imread(img_path)\n",
    "    resized = cv2.resize(image, size, interpolation=cv2.INTER_CUBIC)\n",
    "    img=np.array([resized.flatten()])\n",
    "    #print('resized image')\n",
    "    return img"
   ]
  },
  {
   "cell_type": "code",
   "execution_count": 37,
   "metadata": {},
   "outputs": [],
   "source": [
    "def predictNewImage(path):\n",
    "    im = resizeImages(path)\n",
    "    pred_nueva=clf.predict(im)\n",
    "    print(pred_nueva)\n",
    "    if pred_nueva == 0:\n",
    "        print('Tumor benigno')\n",
    "    else:\n",
    "        print('Tumor maligno')\n",
    "    return pred_nueva"
   ]
  },
  {
   "cell_type": "code",
   "execution_count": 38,
   "metadata": {
    "scrolled": true
   },
   "outputs": [
    {
     "name": "stdout",
     "output_type": "stream",
     "text": [
      "[1]\n",
      "Tumor maligno\n",
      "./images/16166_idx5_x901_y1001_class1.png [1]\n",
      "[1]\n",
      "Tumor maligno\n",
      "./images/16166_idx5_x901_y1051_class1.png [1]\n",
      "[0]\n",
      "Tumor benigno\n",
      "./images/16166_idx5_x301_y901_class0.png [0]\n",
      "[1]\n",
      "Tumor maligno\n",
      "./images/16166_idx5_x901_y901_class1.png [1]\n",
      "[0]\n",
      "Tumor benigno\n",
      "./images/16166_idx5_x201_y1251_class0.png [0]\n",
      "[0]\n",
      "Tumor benigno\n",
      "./images/16166_idx5_x201_y851_class0.png [0]\n",
      "[0]\n",
      "Tumor benigno\n",
      "./images/16166_idx5_x151_y1101_class0.png [0]\n",
      "[1]\n",
      "Tumor maligno\n",
      "./images/16166_idx5_x901_y951_class1.png [1]\n"
     ]
    }
   ],
   "source": [
    "import re \n",
    "\n",
    "for file in glob.glob('./images/*.png'):\n",
    "    print(file, predictNewImage(file))\n"
   ]
  },
  {
   "cell_type": "markdown",
   "metadata": {},
   "source": [
    "### Otros modelos"
   ]
  },
  {
   "cell_type": "code",
   "execution_count": 182,
   "metadata": {},
   "outputs": [],
   "source": [
    "from sklearn.metrics import classification_report, confusion_matrix\n",
    "from sklearn.ensemble import GradientBoostingClassifier\n",
    "from sklearn.neighbors import KNeighborsClassifier"
   ]
  },
  {
   "cell_type": "code",
   "execution_count": 175,
   "metadata": {},
   "outputs": [],
   "source": [
    "df2=importDfPickle(\"./output/breast_cancer_2000m.pkl\") "
   ]
  },
  {
   "cell_type": "code",
   "execution_count": 176,
   "metadata": {},
   "outputs": [],
   "source": [
    "X_grad=np.asarray(list(df['image']))\n",
    "X_grad = X_grad.reshape(X_grad.shape[0], -1)\n",
    "y_grad=np.asarray(df['label'])"
   ]
  },
  {
   "cell_type": "code",
   "execution_count": 177,
   "metadata": {},
   "outputs": [],
   "source": [
    "from sklearn.model_selection import train_test_split\n",
    "X_train2, X_test2, y_train2, y_test2 = train_test_split(X_grad, y_grad, test_size=0.2, random_state=42)"
   ]
  },
  {
   "cell_type": "code",
   "execution_count": 183,
   "metadata": {},
   "outputs": [
    {
     "ename": "MemoryError",
     "evalue": "Unable to allocate array with shape (36000, 7500) and data type float64",
     "output_type": "error",
     "traceback": [
      "\u001b[0;31m---------------------------------------------------------------------------\u001b[0m",
      "\u001b[0;31mMemoryError\u001b[0m                               Traceback (most recent call last)",
      "\u001b[0;32m<ipython-input-183-bfabcc3bc095>\u001b[0m in \u001b[0;36m<module>\u001b[0;34m\u001b[0m\n\u001b[1;32m      1\u001b[0m \u001b[0mgb_clf\u001b[0m \u001b[0;34m=\u001b[0m \u001b[0mKNeighborsClassifier\u001b[0m\u001b[0;34m(\u001b[0m\u001b[0;34m)\u001b[0m\u001b[0;34m\u001b[0m\u001b[0m\n\u001b[0;32m----> 2\u001b[0;31m \u001b[0mgb_clf\u001b[0m\u001b[0;34m.\u001b[0m\u001b[0mfit\u001b[0m\u001b[0;34m(\u001b[0m\u001b[0mX_train2\u001b[0m\u001b[0;34m,\u001b[0m \u001b[0my_train2\u001b[0m\u001b[0;34m)\u001b[0m\u001b[0;34m\u001b[0m\u001b[0m\n\u001b[0m",
      "\u001b[0;32m~/.local/lib/python3.5/site-packages/sklearn/neighbors/base.py\u001b[0m in \u001b[0;36mfit\u001b[0;34m(self, X, y)\u001b[0m\n\u001b[1;32m    788\u001b[0m             \u001b[0mself\u001b[0m\u001b[0;34m.\u001b[0m\u001b[0m_y\u001b[0m \u001b[0;34m=\u001b[0m \u001b[0mself\u001b[0m\u001b[0;34m.\u001b[0m\u001b[0m_y\u001b[0m\u001b[0;34m.\u001b[0m\u001b[0mravel\u001b[0m\u001b[0;34m(\u001b[0m\u001b[0;34m)\u001b[0m\u001b[0;34m\u001b[0m\u001b[0m\n\u001b[1;32m    789\u001b[0m \u001b[0;34m\u001b[0m\u001b[0m\n\u001b[0;32m--> 790\u001b[0;31m         \u001b[0;32mreturn\u001b[0m \u001b[0mself\u001b[0m\u001b[0;34m.\u001b[0m\u001b[0m_fit\u001b[0m\u001b[0;34m(\u001b[0m\u001b[0mX\u001b[0m\u001b[0;34m)\u001b[0m\u001b[0;34m\u001b[0m\u001b[0m\n\u001b[0m\u001b[1;32m    791\u001b[0m \u001b[0;34m\u001b[0m\u001b[0m\n\u001b[1;32m    792\u001b[0m \u001b[0;34m\u001b[0m\u001b[0m\n",
      "\u001b[0;32m~/.local/lib/python3.5/site-packages/sklearn/neighbors/base.py\u001b[0m in \u001b[0;36m_fit\u001b[0;34m(self, X)\u001b[0m\n\u001b[1;32m    246\u001b[0m             self._tree = KDTree(X, self.leaf_size,\n\u001b[1;32m    247\u001b[0m                                 \u001b[0mmetric\u001b[0m\u001b[0;34m=\u001b[0m\u001b[0mself\u001b[0m\u001b[0;34m.\u001b[0m\u001b[0meffective_metric_\u001b[0m\u001b[0;34m,\u001b[0m\u001b[0;34m\u001b[0m\u001b[0m\n\u001b[0;32m--> 248\u001b[0;31m                                 **self.effective_metric_params_)\n\u001b[0m\u001b[1;32m    249\u001b[0m         \u001b[0;32melif\u001b[0m \u001b[0mself\u001b[0m\u001b[0;34m.\u001b[0m\u001b[0m_fit_method\u001b[0m \u001b[0;34m==\u001b[0m \u001b[0;34m'brute'\u001b[0m\u001b[0;34m:\u001b[0m\u001b[0;34m\u001b[0m\u001b[0m\n\u001b[1;32m    250\u001b[0m             \u001b[0mself\u001b[0m\u001b[0;34m.\u001b[0m\u001b[0m_tree\u001b[0m \u001b[0;34m=\u001b[0m \u001b[0;32mNone\u001b[0m\u001b[0;34m\u001b[0m\u001b[0m\n",
      "\u001b[0;32msklearn/neighbors/binary_tree.pxi\u001b[0m in \u001b[0;36msklearn.neighbors.kd_tree.BinaryTree.__init__\u001b[0;34m()\u001b[0m\n",
      "\u001b[0;32m~/.local/lib/python3.5/site-packages/numpy/core/_asarray.py\u001b[0m in \u001b[0;36masarray\u001b[0;34m(a, dtype, order)\u001b[0m\n\u001b[1;32m     83\u001b[0m \u001b[0;34m\u001b[0m\u001b[0m\n\u001b[1;32m     84\u001b[0m     \"\"\"\n\u001b[0;32m---> 85\u001b[0;31m     \u001b[0;32mreturn\u001b[0m \u001b[0marray\u001b[0m\u001b[0;34m(\u001b[0m\u001b[0ma\u001b[0m\u001b[0;34m,\u001b[0m \u001b[0mdtype\u001b[0m\u001b[0;34m,\u001b[0m \u001b[0mcopy\u001b[0m\u001b[0;34m=\u001b[0m\u001b[0;32mFalse\u001b[0m\u001b[0;34m,\u001b[0m \u001b[0morder\u001b[0m\u001b[0;34m=\u001b[0m\u001b[0morder\u001b[0m\u001b[0;34m)\u001b[0m\u001b[0;34m\u001b[0m\u001b[0m\n\u001b[0m\u001b[1;32m     86\u001b[0m \u001b[0;34m\u001b[0m\u001b[0m\n\u001b[1;32m     87\u001b[0m \u001b[0;34m\u001b[0m\u001b[0m\n",
      "\u001b[0;31mMemoryError\u001b[0m: Unable to allocate array with shape (36000, 7500) and data type float64"
     ]
    }
   ],
   "source": [
    "gb_clf = KNeighborsClassifier()\n",
    "gb_clf.fit(X_train2, y_train2)"
   ]
  },
  {
   "cell_type": "code",
   "execution_count": null,
   "metadata": {},
   "outputs": [],
   "source": [
    "print(\"Learning rate: \", learning_rate)\n",
    "print(\"Accuracy score (training): {0:.3f}\".format(gb_clf.score(X_train, y_train)))\n",
    "print(\"Accuracy score (validation): {0:.3f}\".format(gb_clf.score(X_val, y_val)))"
   ]
  },
  {
   "cell_type": "markdown",
   "metadata": {},
   "source": [
    "### Chequear si las imágenes están en el dataset"
   ]
  },
  {
   "cell_type": "code",
   "execution_count": null,
   "metadata": {},
   "outputs": [],
   "source": [
    "x='images/0/15840_idx5_x151_y551_class0.png'"
   ]
  },
  {
   "cell_type": "code",
   "execution_count": 167,
   "metadata": {},
   "outputs": [],
   "source": [
    "c='images/1/14304_idx5_x1601_y401_class1.png'"
   ]
  },
  {
   "cell_type": "code",
   "execution_count": 169,
   "metadata": {},
   "outputs": [],
   "source": [
    "if c in df['path']:\n",
    "    print('imagen en dataset')"
   ]
  },
  {
   "cell_type": "code",
   "execution_count": null,
   "metadata": {},
   "outputs": [],
   "source": [
    "./images/12867_idx5_x1851_y1351_class1.png"
   ]
  },
  {
   "cell_type": "code",
   "execution_count": 166,
   "metadata": {},
   "outputs": [
    {
     "data": {
      "text/plain": [
       "0        images/1/12867_idx5_x1851_y1351_class1.png\n",
       "1        images/1/16167_idx5_x2201_y1701_class1.png\n",
       "2        images/1/12821_idx5_x1651_y1551_class1.png\n",
       "3        images/1/13691_idx5_x3651_y1901_class1.png\n",
       "4        images/1/14154_idx5_x1801_y1501_class1.png\n",
       "5         images/1/14304_idx5_x1601_y401_class1.png\n",
       "6         images/1/9022_idx5_x2151_y1051_class1.png\n",
       "7        images/1/10273_idx5_x1101_y1351_class1.png\n",
       "8         images/1/8975_idx5_x2351_y1251_class1.png\n",
       "9         images/1/15473_idx5_x2101_y901_class1.png\n",
       "10       images/1/10273_idx5_x1501_y1051_class1.png\n",
       "11       images/1/10299_idx5_x2301_y1751_class1.png\n",
       "12       images/1/12819_idx5_x1451_y2451_class1.png\n",
       "13        images/1/10302_idx5_x1801_y351_class1.png\n",
       "14       images/1/12930_idx5_x2251_y1701_class1.png\n",
       "15       images/1/10273_idx5_x1351_y1501_class1.png\n",
       "16         images/1/8917_idx5_x1051_y651_class1.png\n",
       "17       images/1/13019_idx5_x1851_y1351_class1.png\n",
       "18       images/1/12935_idx5_x2051_y1651_class1.png\n",
       "19        images/1/12894_idx5_x1751_y501_class1.png\n",
       "20        images/1/15634_idx5_x801_y1651_class1.png\n",
       "21       images/1/14157_idx5_x1701_y1151_class1.png\n",
       "22       images/1/12867_idx5_x1151_y1251_class1.png\n",
       "23       images/1/12895_idx5_x2351_y2551_class1.png\n",
       "24       images/1/14190_idx5_x2551_y1551_class1.png\n",
       "25        images/1/12909_idx5_x1301_y301_class1.png\n",
       "26       images/1/14211_idx5_x1551_y1201_class1.png\n",
       "27        images/1/10255_idx5_x751_y1101_class1.png\n",
       "28         images/1/9257_idx5_x1601_y551_class1.png\n",
       "29        images/1/12752_idx5_x1251_y351_class1.png\n",
       "                            ...                    \n",
       "44970     images/0/10269_idx5_x1551_y201_class0.png\n",
       "44971    images/0/12933_idx5_x1451_y1051_class0.png\n",
       "44972     images/0/9383_idx5_x1601_y1701_class0.png\n",
       "44973     images/0/13694_idx5_x851_y2701_class0.png\n",
       "44974     images/0/10285_idx5_x1601_y751_class0.png\n",
       "44975    images/0/12626_idx5_x1851_y1701_class0.png\n",
       "44976     images/0/10288_idx5_x2451_y251_class0.png\n",
       "44977    images/0/14211_idx5_x2201_y2101_class0.png\n",
       "44978      images/0/9041_idx5_x1201_y451_class0.png\n",
       "44979     images/0/9261_idx5_x2551_y2101_class0.png\n",
       "44980    images/0/13462_idx5_x2701_y2401_class0.png\n",
       "44981     images/0/10274_idx5_x1101_y401_class0.png\n",
       "44982    images/0/15634_idx5_x1001_y1301_class0.png\n",
       "44983        images/0/9029_idx5_x1251_y1_class0.png\n",
       "44984      images/0/12884_idx5_x501_y251_class0.png\n",
       "44985    images/0/15472_idx5_x2551_y2251_class0.png\n",
       "44986    images/0/12818_idx5_x1051_y1601_class0.png\n",
       "44987      images/0/9291_idx5_x1201_y401_class0.png\n",
       "44988      images/0/9043_idx5_x2701_y151_class0.png\n",
       "44989     images/0/9078_idx5_x1551_y2201_class0.png\n",
       "44990    images/0/10261_idx5_x2001_y1301_class0.png\n",
       "44991     images/0/12954_idx5_x1401_y551_class0.png\n",
       "44992    images/0/12819_idx5_x2401_y1351_class0.png\n",
       "44993    images/0/10269_idx5_x2301_y1201_class0.png\n",
       "44994      images/0/9382_idx5_x351_y1351_class0.png\n",
       "44995      images/0/12877_idx5_x751_y301_class0.png\n",
       "44996    images/0/13693_idx5_x1951_y1951_class0.png\n",
       "44997    images/0/13591_idx5_x2201_y1751_class0.png\n",
       "44998      images/0/9325_idx5_x1601_y551_class0.png\n",
       "44999     images/0/15472_idx5_x2001_y551_class0.png\n",
       "Name: path, Length: 45000, dtype: object"
      ]
     },
     "execution_count": 166,
     "metadata": {},
     "output_type": "execute_result"
    }
   ],
   "source": [
    "df.path"
   ]
  },
  {
   "cell_type": "code",
   "execution_count": null,
   "metadata": {},
   "outputs": [],
   "source": []
  }
 ],
 "metadata": {
  "kernelspec": {
   "display_name": "Python 3",
   "language": "python",
   "name": "python3"
  },
  "language_info": {
   "codemirror_mode": {
    "name": "ipython",
    "version": 3
   },
   "file_extension": ".py",
   "mimetype": "text/x-python",
   "name": "python",
   "nbconvert_exporter": "python",
   "pygments_lexer": "ipython3",
   "version": "3.5.2"
  }
 },
 "nbformat": 4,
 "nbformat_minor": 2
}
